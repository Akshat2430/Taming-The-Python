{
  "nbformat": 4,
  "nbformat_minor": 0,
  "metadata": {
    "colab": {
      "name": "Taming-The-Python-3.ipynb",
      "provenance": [],
      "authorship_tag": "ABX9TyN7JNsdGEupMbhwc56CxAXg",
      "include_colab_link": true
    },
    "kernelspec": {
      "name": "python3",
      "display_name": "Python 3"
    }
  },
  "cells": [
    {
      "cell_type": "markdown",
      "metadata": {
        "id": "view-in-github",
        "colab_type": "text"
      },
      "source": [
        "<a href=\"https://colab.research.google.com/github/Akshat2430/Taming-The-Python/blob/main/TTP_3.ipynb\" target=\"_parent\"><img src=\"https://colab.research.google.com/assets/colab-badge.svg\" alt=\"Open In Colab\"/></a>"
      ]
    },
    {
      "cell_type": "markdown",
      "metadata": {
        "id": "Y-5fnJ4r2qOH"
      },
      "source": [
        "# TAMING THE PYTHON - 3\r\n",
        "\r\n",
        "Welcome! This notebook aims to take you through loops in Python, and you should be able to follow along if you went through [my previous post](https://github.com/Akshat2430/Taming-The-Python/blob/main/TTP_2.ipynb), introducing the very basics of Python in the simplest manner possible.\r\n",
        "\r\n",
        "You won't be an expert at the end, but you will have a decent starting point to BECOME an expert.\r\n",
        "\r\n",
        "Sounds good? Let's go!\r\n",
        "\r\n",
        "Oh actually, before that: Let me tell dive a bit into how to get the most out of this notebook (That's what you call this whole file, a Colab notebook :p)\r\n",
        "\r\n",
        "Now, this notebook is made of cells. In order to run a cell, you just need to click on it and press Shift + Enter.\r\n",
        "\r\n",
        "\"Running\" the cell means that the code present inside the cell will be executed, and you'll get an output.\r\n",
        "\r\n",
        "Some cells will contain text (like this one!), while some will contain code.\r\n",
        "\r\n",
        "You will notice that cells containing codes will have a # followed by some text at some places. This is called a comment. Basically, whatever you write in there is just for humans: The computer will understand that this isn't code, and it won't affect your output!\r\n",
        "\r\n",
        "Alright, I think we can say this now: Let's go!\r\n",
        "\r\n",
        "P.S. This notebook is a companion to [my blog](https://pythonpandas.substack.com/)\r\n",
        "\r\n",
        "P.P.S. Feel free to connect with me on [LinkedIn!](https://www.linkedin.com/in/akshat-kharbanda-b91986148/)"
      ]
    },
    {
      "cell_type": "markdown",
      "metadata": {
        "id": "3RK7V00C2_ws"
      },
      "source": [
        "## WHILE"
      ]
    },
    {
      "cell_type": "code",
      "metadata": {
        "id": "PwImYM_k26Oa"
      },
      "source": [
        "# Print ‘Hello World!’ 100 times\r\n",
        "# I want you to think of this another way, how about through a variable?\r\n",
        "# Define a variable called count, and set the value to 1.\r\n",
        "count = 1"
      ],
      "execution_count": null,
      "outputs": []
    },
    {
      "cell_type": "code",
      "metadata": {
        "id": "3-2d6fTG3Q7v"
      },
      "source": [
        "# Now, let’s say every time you print “Hello World!”, the value of count increases by 1. With this information, we can define our problem in a different way:\r\n",
        "# Print ‘Hello World!’ TILL the value of count reaches 100\r\n",
        "# Why 100? Well, because every time you’re printing ‘Hello World!’, the value of count is increasing by 1.\r\n",
        "# Print it once => count = 1 + 1 = 2\r\n",
        "# Print it twice => count = 2 + 1 = 3\r\n",
        "# Print it thrice => count = 3 + 1 = 4\r\n",
        "# …\r\n",
        "# Print it a hundred times => count = 100 + 1 = 101\r\n",
        "# And that’s it! We only want ‘Hello World!’ to be printed 100 times. The TILL in our problem defined that.\r\n",
        "while count < 101:\r\n",
        "  print('Hello World!')\r\n",
        "  count = count + 1"
      ],
      "execution_count": null,
      "outputs": []
    },
    {
      "cell_type": "code",
      "metadata": {
        "id": "r9fe4g8o3oJg"
      },
      "source": [
        "# Basically, a WHILE loop runs whatever is inside it WHILE the condition you specified is TRUE. \r\n",
        "# For example, in our case, the WHILE loop will run till the value of count is lesser than 101.\r\n",
        "# That means this loop will keep going on and on and on till the condition is met. Don’t trust me? Try this code out:\r\n",
        "count = 1\r\n",
        "while count < 101:   \r\n",
        "  print('Hello World!')\r\n",
        "# You should’ve taken my word for it :)\r\n",
        "# You can stop this cell from running by clicking on the square stop button at the top left of this cell. Save yourself!\r\n",
        "# This was an infinite loop."
      ],
      "execution_count": null,
      "outputs": []
    },
    {
      "cell_type": "code",
      "metadata": {
        "id": "sKGtsDef434E"
      },
      "source": [
        "# Your turn! Print all the numbers from 0 to 100"
      ],
      "execution_count": null,
      "outputs": []
    },
    {
      "cell_type": "markdown",
      "metadata": {
        "id": "jElsTV5M4hvL"
      },
      "source": [
        "### FOR"
      ]
    },
    {
      "cell_type": "code",
      "metadata": {
        "id": "u03h14eO_3wh"
      },
      "source": [
        "# Print ‘Hello World!’ 100 times\r\n",
        "# Actually, before addressing this problem, let me take a quick detour and introduce you to the range() function in Python.\r\n",
        "# This function returns a sequence of numbers, starting from 0 by default, and increments by 1 (by default), and stops before a specified number.  Here are some examples:\r\n",
        "# To create a sequence of numbers from 0 to 5, use range(6)\r\n",
        "x = range(6)\r\n",
        "print(list(x))\r\n",
        "# To create a sequence of numbers from 3 to 5, use range(3,6)\r\n",
        "y = range(3,6)\r\n",
        "print(list(y))\r\n",
        "# To create a sequence of numbers from 1 to 5, but increment by 2 instead of 1, use range(1,6,2)\r\n",
        "z = range(1,6,2)\r\n",
        "print(list(z))"
      ],
      "execution_count": null,
      "outputs": []
    },
    {
      "cell_type": "code",
      "metadata": {
        "id": "Hv4cF5Qd_8ZO"
      },
      "source": [
        "# Now, what we did with the while loop was incrementing count by 1 every time we had to print (‘Hello World!’).\r\n",
        "# With the for loop, we’ll be using range().\r\n",
        "for count in range(100):   \r\n",
        "  print('Hello World!')   \r\n",
        "# Basically, a FOR loop runs whatever is inside it FOR the items IN the list. \r\n",
        "# For example, in our case, the FOR loop will run till we go through all the numbers in range(100)."
      ],
      "execution_count": null,
      "outputs": []
    },
    {
      "cell_type": "code",
      "metadata": {
        "id": "SeShgW34ANI6"
      },
      "source": [
        "# Your turn! Print the square of all the numbers from 0 to 10"
      ],
      "execution_count": null,
      "outputs": []
    },
    {
      "cell_type": "markdown",
      "metadata": {
        "id": "dESl3Yx8ANsi"
      },
      "source": [
        "### BREAK & CONTINUE"
      ]
    },
    {
      "cell_type": "code",
      "metadata": {
        "id": "JRMRvDTrARQA"
      },
      "source": [
        "# With the break statement we can stop the loop even if the while condition is true:  \r\n",
        "count = 1 \r\n",
        "while count < 101:      \r\n",
        "  print('Hello World!')\r\n",
        "  if count == 50:\r\n",
        "     break\r\n",
        "  count = count + 1\r\n",
        "# When the value of count is 50, the condition in the IF statement comes true. That is, the break is activated.\r\n",
        "# When that happens, the loop ends. It will never run again (sniff sniff). That’s it, bye-bye!\r\n",
        "# Therefore, ‘Hello World!’ will only be printed 50 times"
      ],
      "execution_count": null,
      "outputs": []
    },
    {
      "cell_type": "code",
      "metadata": {
        "id": "3GAwEnZoAhAm"
      },
      "source": [
        "# With the continue statement we can stop the current iteration, and continue with the next:  \r\n",
        "count = 1 \r\n",
        "while count < 101:      \r\n",
        "  count = count + 1\r\n",
        "  if count == 50:\r\n",
        "     continue\r\n",
        "  print('Hello World!')\r\n",
        "# When the value of count is 50, the condition in the IF statement comes true. That is, the continue is activated.\r\n",
        "# When that happens, this run of the loop ends. You can think of it as skipping one iteration.\r\n",
        "# Therefore, ‘Hello World!’ will only be printed 99 times, since one time was skipped."
      ],
      "execution_count": null,
      "outputs": []
    },
    {
      "cell_type": "code",
      "metadata": {
        "id": "o9ZyCtmGBYe1"
      },
      "source": [
        "# Your turn! Print the halves of all even numbers till 50"
      ],
      "execution_count": null,
      "outputs": []
    },
    {
      "cell_type": "markdown",
      "metadata": {
        "id": "Mr0E-KJsCGwK"
      },
      "source": [
        "# CONGRATULATIONS!\r\n",
        "\r\n",
        "You're now well acquainted with loops in Python. The next part of this notebook series will take you one step ahead on your journey: You'll be diving into data types - AGAIN!\r\n",
        "\r\n",
        "Here's some help for the stuff we covered today:\r\n",
        "\r\n",
        "\r\n",
        "*   [If you didn't get anything](https://stackabuse.com/loops-in-python/)\r\n",
        "*   [See some more examples](https://www.learnpython.org/en/Loops)\r\n",
        "*   [Pretty flowcharts to show loops](https://problemsolvingwithpython.com/09-Loops/09.04-Flowcharts-Describing-Loops/)\r\n",
        "\r\n",
        "Feel free to contact me for feedback, suggestions, queries etc. at: akharbanda1@hotmail.com\r\n",
        "\r\n",
        "See you in the next one!\r\n",
        "\r\n",
        "P.S. Feel free to subscribe to [my blog](https://pythonpandas.substack.com/) to stay updated :)"
      ]
    }
  ]
}