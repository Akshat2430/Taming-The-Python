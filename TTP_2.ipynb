{
  "nbformat": 4,
  "nbformat_minor": 0,
  "metadata": {
    "colab": {
      "name": "Taming-The-Python-2.ipynb",
      "provenance": [],
      "authorship_tag": "ABX9TyNjvEc+8QWBL6ynNvhKu+La",
      "include_colab_link": true
    },
    "kernelspec": {
      "name": "python3",
      "display_name": "Python 3"
    }
  },
  "cells": [
    {
      "cell_type": "markdown",
      "metadata": {
        "id": "view-in-github",
        "colab_type": "text"
      },
      "source": [
        "<a href=\"https://colab.research.google.com/github/Akshat2430/Taming-The-Python/blob/main/TTP_2.ipynb\" target=\"_parent\"><img src=\"https://colab.research.google.com/assets/colab-badge.svg\" alt=\"Open In Colab\"/></a>"
      ]
    },
    {
      "cell_type": "markdown",
      "metadata": {
        "id": "w6A-GU6LReJ9"
      },
      "source": [
        "# TAMING THE PYTHON - 2\r\n",
        "\r\n",
        "Welcome! This notebook aims to take you through control statements in Python, and you should be able to follow along if you went through [my previous post](https://github.com/Akshat2430/Taming-The-Python/blob/main/TTP_1.ipynb), introducing the very basics of Python in the simplest manner possible.\r\n",
        "\r\n",
        "You won't be an expert at the end, but you will have a decent starting point to BECOME an expert.\r\n",
        "\r\n",
        "Sounds good? Let's go!\r\n",
        "\r\n",
        "Oh actually, before that: Let me tell dive a bit into how to get the most out of this notebook (That's what you call this whole file, a Colab notebook :p)\r\n",
        "\r\n",
        "Now, this notebook is made of cells. In order to run a cell, you just need to click on it and press Shift + Enter.\r\n",
        "\r\n",
        "\"Running\" the cell means that the code present inside the cell will be executed, and you'll get an output.\r\n",
        "\r\n",
        "Some cells will contain text (like this one!), while some will contain code.\r\n",
        "\r\n",
        "You will notice that cells containing codes will have a # followed by some text at some places. This is called a comment. Basically, whatever you write in there is just for humans: The computer will understand that this isn't code, and it won't affect your output!\r\n",
        "\r\n",
        "Alright, I think we can say this now: Let's go!\r\n",
        "\r\n",
        "P.S. This notebook is a companion to [my blog](https://pythonpandas.substack.com/)\r\n",
        "\r\n",
        "P.P.S. Feel free to connect with me on [LinkedIn!](https://www.linkedin.com/in/akshat-kharbanda-b91986148/)"
      ]
    },
    {
      "cell_type": "markdown",
      "metadata": {
        "id": "VUK77Fez1rTY"
      },
      "source": [
        "## IF"
      ]
    },
    {
      "cell_type": "code",
      "metadata": {
        "id": "sziBnDhWRRZp"
      },
      "source": [
        "# Do you like watching sports?\r\n",
        "# Any and every sport you watch has a competition between teams/individuals\r\n",
        "# If you win, you get a point.\r\n",
        "# If you lose, the opponent gets a point.\r\n",
        "# If it's a draw, nobody gets any points.\r\n",
        "# Basically, the points you get depend on the outcome of the game.\r\n",
        "# Let's declare outcome as a variable and give it a value of \"win\" (for now!)\r\n",
        "outcome = \"win\""
      ],
      "execution_count": null,
      "outputs": []
    },
    {
      "cell_type": "code",
      "metadata": {
        "colab": {
          "base_uri": "https://localhost:8080/"
        },
        "id": "fslGkqYJWmAe",
        "outputId": "9bc617bb-1f4a-4be9-fe89-fb7cc1c7ed15"
      },
      "source": [
        "# Now, I want you to rememeber something we talked about in the last post (or just open it again hehe)\r\n",
        "# Remember conditional operators? That's the fancy programming term for stuff like >, < etc.\r\n",
        "# Here's a statement that checks whether outcome holds the value win\r\n",
        "print(outcome == \"win\")"
      ],
      "execution_count": null,
      "outputs": [
        {
          "output_type": "stream",
          "text": [
            "True\n"
          ],
          "name": "stdout"
        }
      ]
    },
    {
      "cell_type": "code",
      "metadata": {
        "colab": {
          "base_uri": "https://localhost:8080/"
        },
        "id": "RfUsx8dvlzV5",
        "outputId": "ff42e2b6-9f3c-41a0-84cb-0338be8246f4"
      },
      "source": [
        "# The output it True, because the value of the variable outcome is indeed \"win\"!\r\n",
        "# Now, we know that if you win, then you're supposed to get a point\r\n",
        "# That is, if outcome == \"win\", points = 1\r\n",
        "# Let's write this in Python!\r\n",
        "if outcome == \"win\":\r\n",
        "  points = 1\r\n",
        "print(points)"
      ],
      "execution_count": null,
      "outputs": [
        {
          "output_type": "stream",
          "text": [
            "1\n"
          ],
          "name": "stdout"
        }
      ]
    },
    {
      "cell_type": "code",
      "metadata": {
        "colab": {
          "base_uri": "https://localhost:8080/"
        },
        "id": "3KN0Pnx4mhRe",
        "outputId": "3e4b0fee-37da-4da5-f9c7-c4e8b0bdeeab"
      },
      "source": [
        "# Now, what if the outcome is a loss? Points = -1\r\n",
        "# Let's Pythonify this!\r\n",
        "outcome = \"lose\"\r\n",
        "if outcome == \"lose\":\r\n",
        "  points = -1\r\n",
        "print(points)"
      ],
      "execution_count": null,
      "outputs": [
        {
          "output_type": "stream",
          "text": [
            "-1\n"
          ],
          "name": "stdout"
        }
      ]
    },
    {
      "cell_type": "code",
      "metadata": {
        "colab": {
          "base_uri": "https://localhost:8080/"
        },
        "id": "KtNYD1q8nAf3",
        "outputId": "5e49f2ea-a800-422f-b425-6fbf9730248e"
      },
      "source": [
        "# Finally, in case of a tie, points remain the same (=0)\r\n",
        "outcome = \"tie\"\r\n",
        "if outcome == \"tie\":\r\n",
        "  points = 0\r\n",
        "print(points)"
      ],
      "execution_count": null,
      "outputs": [
        {
          "output_type": "stream",
          "text": [
            "0\n"
          ],
          "name": "stdout"
        }
      ]
    },
    {
      "cell_type": "code",
      "metadata": {
        "id": "qfq6NjCet3dJ"
      },
      "source": [
        "# Your turn! Write an IF statement that prints the result of 10 + 20 if 10 < 20"
      ],
      "execution_count": null,
      "outputs": []
    },
    {
      "cell_type": "markdown",
      "metadata": {
        "id": "7zxqAhR61mZ2"
      },
      "source": [
        "## ELSE AND ELIF"
      ]
    },
    {
      "cell_type": "code",
      "metadata": {
        "colab": {
          "base_uri": "https://localhost:8080/"
        },
        "id": "k34lyWhznTml",
        "outputId": "4944679b-2dcc-48c7-c896-7220654fcad1"
      },
      "source": [
        "# Sooo...The above codes do work, but I think we can do better.\r\n",
        "# What makes me say that? Well, because the computer is checking the value of the outcome variable THRICE, regardless of the value of outcome\r\n",
        "# Let me show this by reproducing the above codes again\r\n",
        "outcome = \"win\"\r\n",
        "if outcome == \"win\":\r\n",
        "  points = 1\r\n",
        "if outcome == \"lose\":\r\n",
        "  points = -1\r\n",
        "if outcome == \"tie\":\r\n",
        "  points = 0\r\n",
        "print(points)\r\n",
        "# Let me walk you through what happened in this cell.\r\n",
        "# We assigned a value of \"win\" to the variable outcome\r\n",
        "# Then, we ran an if statement. IF the value of variable outcome is win, set points to 1.\r\n",
        "# The value is indeed win, so the points are set to 1\r\n",
        "# Now, this is where, as a human, your work is done. We have the common sense to understand that a team cannot win AND lose in the same game.\r\n",
        "# But the computer doesn't have that common sense.\r\n",
        "# It will check the value of outcome yet again, since there is an IF statement asking it to see IF the value of variable outcome is lose.\r\n",
        "# And there is yet another one below it\r\n",
        "# So, IF staement gets run thrice, when it needed to have run only once. How do we solve this problem?"
      ],
      "execution_count": null,
      "outputs": [
        {
          "output_type": "stream",
          "text": [
            "1\n"
          ],
          "name": "stdout"
        }
      ]
    },
    {
      "cell_type": "code",
      "metadata": {
        "colab": {
          "base_uri": "https://localhost:8080/"
        },
        "id": "nXI5PAHOn9Tu",
        "outputId": "0f5af993-ed33-4aab-d31d-3d5769ef755b"
      },
      "source": [
        "# For now assume that outcome can take only two values = Win or Lose. That's right, we're in the finals of the World Cup.\r\n",
        "# IF a team doesn't win, then it loses, right?\r\n",
        "# IF the team wins, set points to 1. Otherwise, set points to -1.\r\n",
        "# A synonym to otherwise is ELSE, and Python likes this :)\r\n",
        "outcome = \"lose\"\r\n",
        "if outcome == \"win\":\r\n",
        "  points = 1\r\n",
        "else:\r\n",
        "  points = -1\r\n",
        "print(points)\r\n",
        "# In this case, the value of outcome is checked only once.\r\n",
        "# The IF statement says set points to 1 if outcome holds the value \"win\". \r\n",
        "# Well, it doesn't! So, the stuff inside the ELSE clause is executed and points are set to -1!"
      ],
      "execution_count": null,
      "outputs": [
        {
          "output_type": "stream",
          "text": [
            "-1\n"
          ],
          "name": "stdout"
        }
      ]
    },
    {
      "cell_type": "code",
      "metadata": {
        "colab": {
          "base_uri": "https://localhost:8080/",
          "height": 128
        },
        "id": "gTOuRiqGqL10",
        "outputId": "e67157e8-1b81-4009-f637-ac65a0378d7a"
      },
      "source": [
        "# Let's go back to our old case where the outcome can be win, lose or tie and use IF-ELSE!\r\n",
        "outcome = \"tie\"\r\n",
        "if outcome == \"win\":\r\n",
        "  points = 1\r\n",
        "else:\r\n",
        "  points = -1\r\n",
        "else:\r\n",
        "  points = 0\r\n",
        "print(points)"
      ],
      "execution_count": null,
      "outputs": [
        {
          "output_type": "error",
          "ename": "SyntaxError",
          "evalue": "ignored",
          "traceback": [
            "\u001b[0;36m  File \u001b[0;32m\"<ipython-input-10-4a1e64a8446e>\"\u001b[0;36m, line \u001b[0;32m7\u001b[0m\n\u001b[0;31m    else:\u001b[0m\n\u001b[0m       ^\u001b[0m\n\u001b[0;31mSyntaxError\u001b[0m\u001b[0;31m:\u001b[0m invalid syntax\n"
          ]
        }
      ]
    },
    {
      "cell_type": "code",
      "metadata": {
        "colab": {
          "base_uri": "https://localhost:8080/"
        },
        "id": "j1VbcCLxwosU",
        "outputId": "6a733337-8e1b-4a63-fd0e-d853a9ecfd47"
      },
      "source": [
        "# Interesting, we get an error. Why?\r\n",
        "# Well, because IF makes sense with only one ELSE\r\n",
        "# Think about it: Do this thing IF this condition holds true. Otherwise, do this other thing.\r\n",
        "# You know what IF with two ELSEs sounds like?\r\n",
        "# Do this thing IF this condition holds true. Otherwise, do this other thing. Otherwise, do this third thing.\r\n",
        "# So, how do we soolve our old case where the outcome can take on three values? Well, here's one way:\r\n",
        "# Let's go back to our old case where the outcome can be win, lose or tie and use IF-ELSE!\r\n",
        "outcome = \"tie\"\r\n",
        "if outcome == \"win\":\r\n",
        "  points = 1\r\n",
        "else:\r\n",
        "  points = -1\r\n",
        "if outcome == \"tie\":\r\n",
        "  points = 0\r\n",
        "print(points)\r\n",
        "# This is better than THREE IF statements, since the value will be checked only twice in this case."
      ],
      "execution_count": null,
      "outputs": [
        {
          "output_type": "stream",
          "text": [
            "0\n"
          ],
          "name": "stdout"
        }
      ]
    },
    {
      "cell_type": "code",
      "metadata": {
        "colab": {
          "base_uri": "https://localhost:8080/"
        },
        "id": "hlakzsWbx3s8",
        "outputId": "5f8b6040-cb46-47cb-b66e-4719ace33718"
      },
      "source": [
        "# However, we can still do better. We know that a game can either be win, lose or tie and never a combination of the two/ all/ neither.\r\n",
        "# In simple terms, when I tell you that the outcome was a win, you KNOW it can't be a loss or a draw.\r\n",
        "# How to teach this to Python? Let's introduce ELIF\r\n",
        "# Think of ELIF as a combination of ELSE and IF.\r\n",
        "# IF the team wins, set points to 1. Otherwise, if it's a loss, set the points to -1. Otherwise, set points to 0.\r\n",
        "outcome = \"tie\"\r\n",
        "if outcome == \"win\":\r\n",
        "  points = 1\r\n",
        "elif outcome == \"lose\":\r\n",
        "  points = -1\r\n",
        "else:\r\n",
        "  points = 0\r\n",
        "print(points)\r\n",
        "# We did it!"
      ],
      "execution_count": null,
      "outputs": [
        {
          "output_type": "stream",
          "text": [
            "0\n"
          ],
          "name": "stdout"
        }
      ]
    },
    {
      "cell_type": "code",
      "metadata": {
        "colab": {
          "base_uri": "https://localhost:8080/"
        },
        "id": "bMjHOqbs2R2O",
        "outputId": "ab05ba4b-2ad9-4188-d20b-9b659f7e52d9"
      },
      "source": [
        "# Ignore thisline of code below\r\n",
        "val = int(input(\"Enter a number between 1 and 100: \")) \r\n",
        "\r\n",
        "# This line above declares a variable called val BUT it doesn't assign a value to it. You do that when you run this cell, and put in a number. Give it a try!\r\n",
        "# Here's your task: You need to print \"lower\" if the value is below 50, \"higher\" if the value is above 50 and \"correct\" if the value is 50"
      ],
      "execution_count": null,
      "outputs": [
        {
          "output_type": "stream",
          "text": [
            "Enter a number between 1 and 100: 50\n"
          ],
          "name": "stdout"
        }
      ]
    },
    {
      "cell_type": "markdown",
      "metadata": {
        "id": "G0TMrDZo12sV"
      },
      "source": [
        "## NESTED IF"
      ]
    },
    {
      "cell_type": "code",
      "metadata": {
        "id": "fQieFepB1u02",
        "colab": {
          "base_uri": "https://localhost:8080/"
        },
        "outputId": "6a89467b-7aaf-409c-bfeb-06baea905095"
      },
      "source": [
        "# Let's extend the example above a bit, before we jump into nested IF\r\n",
        "# If I were to ask you to take any random number between 1 and 100 as input and group it into a quarter, here's how you would go about it\r\n",
        "val = int(input(\"Enter a number between 1 and 100: \")) \r\n",
        "if val>0 and val <=25:\r\n",
        "  print('Q1')\r\n",
        "elif val>25 and val <=50:\r\n",
        "  print('Q2')\r\n",
        "elif val>50 and val <=75:\r\n",
        "  print('Q3')\r\n",
        "else:\r\n",
        "  print('Q4')"
      ],
      "execution_count": 1,
      "outputs": [
        {
          "output_type": "stream",
          "text": [
            "Enter a number between 1 and 100: 54\n",
            "Q3\n"
          ],
          "name": "stdout"
        }
      ]
    },
    {
      "cell_type": "code",
      "metadata": {
        "colab": {
          "base_uri": "https://localhost:8080/"
        },
        "id": "mS1Jph3i8rmh",
        "outputId": "63e20e0e-70d7-4bb7-beac-f2f6f0821f18"
      },
      "source": [
        "# Great, this works!\r\n",
        "# However, here's another way of writing this. Check it out\r\n",
        "val = int(input(\"Enter a number between 1 and 100: \")) \r\n",
        "if val < 50:\r\n",
        "  if val <=25:\r\n",
        "    print('Q1')\r\n",
        "  else:\r\n",
        "    print('Q2')\r\n",
        "else:\r\n",
        "  if val <=75:\r\n",
        "    print('Q3')\r\n",
        "  else:\r\n",
        "    print('Q4')\r\n",
        "# Here, you have an IF statement INSIDE another IF statement. This is called NESTED IFs.\r\n",
        "# What's happening here? Instead of checking whether the number belongs in each quarter individually, you're making the process simpler\r\n",
        "# First, you're figuring out which HALF the number is in. \r\n",
        "# Obviously, if the number is greater than 50, it can only belong to Q3 or Q4.\r\n",
        "# Likewise, if it's lesser than 50, then it's in either Q1 or Q2.\r\n",
        "# By doing this, you're breaking your problem into smaller subproblems. Now, once you have a half ready, you only need to run one IF statement!\r\n",
        "# Pretty cool, eh?"
      ],
      "execution_count": 3,
      "outputs": [
        {
          "output_type": "stream",
          "text": [
            "Enter a number between 1 and 100: 25\n",
            "Q1\n"
          ],
          "name": "stdout"
        }
      ]
    },
    {
      "cell_type": "markdown",
      "metadata": {
        "id": "Qpk7jYQj-X_3"
      },
      "source": [
        "# CONGRATULATIONS!\r\n",
        "\r\n",
        "You're now well acquainted with decision making in Python. The next part of this notebook series will take you one step ahead on your journey: You'll be hopping on a Python roller coaster!\r\n",
        "\r\n",
        "Here's some help for the stuff we covered today:\r\n",
        "\r\n",
        "\r\n",
        "*   [If you didn't get anything](https://www.guru99.com/if-loop-python-conditional-structures.html)\r\n",
        "*   [See some more examples](https://www.w3schools.com/python/python_conditions.asp)\r\n",
        "*   [Pretty flowcharts to show IF-ELSE](https://www.programiz.com/python-programming/if-elif-else)\r\n",
        "\r\n",
        "Feel free to contact me for feedback, suggestions, queries etc. at: akharbanda1@hotmail.com\r\n",
        "\r\n",
        "See you in the next one!\r\n",
        "\r\n",
        "P.S. Feel free to subscribe to [my blog](https://pythonpandas.substack.com/) to stay updated :)"
      ]
    }
  ]
}