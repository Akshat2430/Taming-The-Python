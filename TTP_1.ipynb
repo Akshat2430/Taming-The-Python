{
  "nbformat": 4,
  "nbformat_minor": 0,
  "metadata": {
    "colab": {
      "name": "Taming-The-Python-1.ipynb",
      "provenance": [],
      "authorship_tag": "ABX9TyOpQBEaof1yYei0dVCXWTIJ",
      "include_colab_link": true
    },
    "kernelspec": {
      "name": "python3",
      "display_name": "Python 3"
    }
  },
  "cells": [
    {
      "cell_type": "markdown",
      "metadata": {
        "id": "view-in-github",
        "colab_type": "text"
      },
      "source": [
        "<a href=\"https://colab.research.google.com/github/Akshat2430/Taming-The-Python/blob/main/TTP_1.ipynb\" target=\"_parent\"><img src=\"https://colab.research.google.com/assets/colab-badge.svg\" alt=\"Open In Colab\"/></a>"
      ]
    },
    {
      "cell_type": "markdown",
      "metadata": {
        "id": "8p1Cm61l7zBN"
      },
      "source": [
        "# TAMING THE PYTHON - 1\r\n",
        "\r\n",
        "Welcome! This notebook aims to take you through the VERY basics of Python, and you should be able to follow along even if you haven't written a single line of code.\r\n",
        "\r\n",
        "You won't be an expert at the end, but you will have a decent starting point to BECOME an expert.\r\n",
        "\r\n",
        "Sounds good? Let's go!\r\n",
        "\r\n",
        "Oh actually, before that: Let me tell dive a bit into how to get the most out of this notebook (That's what you call this whole file, a Colab notebook :p)\r\n",
        "\r\n",
        "Now, this notebook is made of cells. In order to run a cell, you just need to click on it and press Shift + Enter.\r\n",
        "\r\n",
        "\"Running\" the cell means that the code present inside the cell will be executed, and you'll get an output.\r\n",
        "\r\n",
        "Some cells will contain text (like this one!), while some will contain code. \r\n",
        "\r\n",
        "You will notice that cells containing codes will have a # followed by some text at some places. This is called a comment. Basically, whatever you write in there is just for humans: The computer will understand that this isn't code, and it won't affect your output!\r\n",
        "\r\n",
        "Alright, I think we can say this now: Let's go!\r\n",
        "\r\n",
        "P.S. This notebook is a companion to [my blog](https://pythonpandas.substack.com/)\r\n",
        "\r\n",
        "P.P.S. Feel free to connect with me on [LinkedIn!](https://www.linkedin.com/in/akshat-kharbanda-b91986148/)"
      ]
    },
    {
      "cell_type": "markdown",
      "metadata": {
        "id": "vZeWl-kgsXP9"
      },
      "source": [
        "## Hello World!"
      ]
    },
    {
      "cell_type": "code",
      "metadata": {
        "colab": {
          "base_uri": "https://localhost:8080/"
        },
        "id": "TU_OZuZJ7uh1",
        "outputId": "d1532f9e-4b50-46fa-83af-f2b2884f27b3"
      },
      "source": [
        "# No matter which language you're programming with, the first lesson is ALWAYS to print Hello World. So, how do you do that in Python? Simple, using the print function. \r\n",
        "# You write, and put brackets. Inside the bracket, you put quotes, and inside the quotes, you put in whatever you want to see on your screen!\r\n",
        "print('Hello World!')\r\n",
        "print('I had tacos for lunch')\r\n",
        "print('420')"
      ],
      "execution_count": 1,
      "outputs": [
        {
          "output_type": "stream",
          "text": [
            "Hello World!\n",
            "I had tacos for lunch\n",
            "420\n"
          ],
          "name": "stdout"
        }
      ]
    },
    {
      "cell_type": "code",
      "metadata": {
        "id": "UmTw37Fs_6Jd"
      },
      "source": [
        "# Pretty cool, right? Alright, your turn: In this cell, write a command to show your name on the screen!"
      ],
      "execution_count": 2,
      "outputs": []
    },
    {
      "cell_type": "markdown",
      "metadata": {
        "id": "uFxBOifmsf7F"
      },
      "source": [
        "## Variables"
      ]
    },
    {
      "cell_type": "code",
      "metadata": {
        "colab": {
          "base_uri": "https://localhost:8080/",
          "height": 178
        },
        "id": "uCV1wfx-FPLX",
        "outputId": "0a4856ed-fb41-40bc-8fa5-905eb564b00b"
      },
      "source": [
        "# Now, let's make a small change. Let's remove the quotes.\r\n",
        "print(Akshat)"
      ],
      "execution_count": 3,
      "outputs": [
        {
          "output_type": "error",
          "ename": "NameError",
          "evalue": "ignored",
          "traceback": [
            "\u001b[0;31m---------------------------------------------------------------------------\u001b[0m",
            "\u001b[0;31mNameError\u001b[0m                                 Traceback (most recent call last)",
            "\u001b[0;32m<ipython-input-3-a9ef8d97656b>\u001b[0m in \u001b[0;36m<module>\u001b[0;34m()\u001b[0m\n\u001b[1;32m      1\u001b[0m \u001b[0;31m# Now, let's make a small change. Let's remove the quotes.\u001b[0m\u001b[0;34m\u001b[0m\u001b[0;34m\u001b[0m\u001b[0;34m\u001b[0m\u001b[0m\n\u001b[0;32m----> 2\u001b[0;31m \u001b[0mprint\u001b[0m\u001b[0;34m(\u001b[0m\u001b[0mAkshat\u001b[0m\u001b[0;34m)\u001b[0m\u001b[0;34m\u001b[0m\u001b[0;34m\u001b[0m\u001b[0m\n\u001b[0m",
            "\u001b[0;31mNameError\u001b[0m: name 'Akshat' is not defined"
          ]
        }
      ]
    },
    {
      "cell_type": "code",
      "metadata": {
        "colab": {
          "base_uri": "https://localhost:8080/"
        },
        "id": "hzpp4ZNUUWMm",
        "outputId": "b5a4ef97-0968-4bcc-a6a0-249d1c768ae4"
      },
      "source": [
        "# Interesting, you're getting an error. Why is that? It has all to do with variables :)\r\n",
        "# A variable stores a piece of data and gives it a name. You define a variable with the '=' sign, and the process is called...variable assignment (You probably saw that coming lol)\r\n",
        "# The thing on the left side of the '=' sign is your variable name, and the thing on the right side is the value it holds\r\n",
        "# For example, let's define a variable called Akshat that has the value 42\r\n",
        "Akshat = 42\r\n",
        "# Now, you won't get an error if you use the above command again! Instead, the value of the variable will be printed\r\n",
        "print(Akshat)"
      ],
      "execution_count": 4,
      "outputs": [
        {
          "output_type": "stream",
          "text": [
            "42\n"
          ],
          "name": "stdout"
        }
      ]
    },
    {
      "cell_type": "code",
      "metadata": {
        "id": "mtrFnrz-dMSx"
      },
      "source": [
        "# Your turn! Define a variable called apples in this cell, and assign it a value of 26. Then, print it."
      ],
      "execution_count": 5,
      "outputs": []
    },
    {
      "cell_type": "code",
      "metadata": {
        "colab": {
          "base_uri": "https://localhost:8080/"
        },
        "id": "YnGkiIhhWlzx",
        "outputId": "1a3c5b46-39c6-49df-db23-5c539e72a783"
      },
      "source": [
        "# Now, if you want to change your variable value to 72, you just do variable assignment again!\r\n",
        "Akshat = 72\r\n",
        "# Guess what print command will print now?\r\n",
        "print(Akshat)"
      ],
      "execution_count": 6,
      "outputs": [
        {
          "output_type": "stream",
          "text": [
            "72\n"
          ],
          "name": "stdout"
        }
      ]
    },
    {
      "cell_type": "code",
      "metadata": {
        "colab": {
          "base_uri": "https://localhost:8080/",
          "height": 128
        },
        "id": "yrfqE6ZlXNWe",
        "outputId": "b9674ac0-dee0-4125-ff4a-b7efb4279669"
      },
      "source": [
        "# Let's try to do something mind boggling now. How about we create a variable named or, and then use the print command on that eh?\r\n",
        "or = 34\r\n",
        "print(or)"
      ],
      "execution_count": 7,
      "outputs": [
        {
          "output_type": "error",
          "ename": "SyntaxError",
          "evalue": "ignored",
          "traceback": [
            "\u001b[0;36m  File \u001b[0;32m\"<ipython-input-7-c54994c745b3>\"\u001b[0;36m, line \u001b[0;32m2\u001b[0m\n\u001b[0;31m    or = 34\u001b[0m\n\u001b[0m     ^\u001b[0m\n\u001b[0;31mSyntaxError\u001b[0m\u001b[0;31m:\u001b[0m invalid syntax\n"
          ]
        }
      ]
    },
    {
      "cell_type": "code",
      "metadata": {
        "colab": {
          "base_uri": "https://localhost:8080/",
          "height": 128
        },
        "id": "qkRu4rzwYIxW",
        "outputId": "04b4e1a8-81fc-4a0c-9400-b3b0e6a48c03"
      },
      "source": [
        "# Why did you get an error? Well, because you confused Python! It doesn't know whether the print you're talking about is the variable or the command.\r\n",
        "# Don't confuse Python, its such a nice language. Use nice and simple variable names.\r\n",
        "# There is actually a list of such banned variable names, called reserved keywords. Here's another example.\r\n",
        "and = 36\r\n",
        "print(and)"
      ],
      "execution_count": 8,
      "outputs": [
        {
          "output_type": "error",
          "ename": "SyntaxError",
          "evalue": "ignored",
          "traceback": [
            "\u001b[0;36m  File \u001b[0;32m\"<ipython-input-8-2fefbfc34670>\"\u001b[0;36m, line \u001b[0;32m4\u001b[0m\n\u001b[0;31m    and = 36\u001b[0m\n\u001b[0m      ^\u001b[0m\n\u001b[0;31mSyntaxError\u001b[0m\u001b[0;31m:\u001b[0m invalid syntax\n"
          ]
        }
      ]
    },
    {
      "cell_type": "markdown",
      "metadata": {
        "id": "8HPix9yRsm2w"
      },
      "source": [
        "## Data Types"
      ]
    },
    {
      "cell_type": "code",
      "metadata": {
        "colab": {
          "base_uri": "https://localhost:8080/"
        },
        "id": "9e_f4OOuaq9J",
        "outputId": "61458ca8-c7f6-4029-e386-2c52020f0191"
      },
      "source": [
        "# So, we've talked a a lot about variables. Now, let's talk about the values they hold. Let's talk about data types\r\n",
        "# Let's break this data types concept on the basis of what you already know:\r\n",
        "# A, B, C, D... are letters.\r\n",
        "# Apple, ball, cat, dog... are words.\r\n",
        "# -2, -1, 0, 1, 2... are integers.\r\n",
        "# 0.1, 1.2, 2.3, 3.4... are decimals.\r\n",
        "# True and False are boolean values. In simple terms, a statement can either be true or false. It can't be both, and it can't be neither.\r\n",
        "# Now, how do you tell this to Python?\r\n",
        "# You don't have to, Python is smart! (Most other programming languages are not though, sadly). Let's look at some examples :)\r\n",
        "\r\n",
        "a = 15 # Defining a variable called a, that has an INTEGER value\r\n",
        "print(a)\r\n",
        "\r\n",
        "b = 15.0 # Defining a variable called b, that has a FLOAT value (That's a decimal with only one digit after the decimal point)\r\n",
        "print(b)\r\n",
        "\r\n",
        "c = 15 # Defining a variable called c, that has a DOUBLE value (That's a decimal with two digits after the decimal point)\r\n",
        "print(c)\r\n",
        "\r\n",
        "d = '15' # Defining a variable called d, that has a STRING value (That's the way Python stores words)\r\n",
        "print(d)\r\n",
        "\r\n",
        "e = True # Defining a variable called e, that has a BOOLEAN value\r\n",
        "print(e)"
      ],
      "execution_count": 9,
      "outputs": [
        {
          "output_type": "stream",
          "text": [
            "15\n",
            "15.0\n",
            "15\n",
            "15\n",
            "True\n"
          ],
          "name": "stdout"
        }
      ]
    },
    {
      "cell_type": "code",
      "metadata": {
        "colab": {
          "base_uri": "https://localhost:8080/"
        },
        "id": "_SsHyobngcL1",
        "outputId": "3ea56258-4353-4bc0-9dcf-c3a66dcbcc39"
      },
      "source": [
        "# Let's look at some more data types now. These are a tad bit advanced.\r\n",
        "# Yet again, let's break this data types concept on the basis of what you already know:\r\n",
        "# When you go shopping, how do you remember the things to buy? You make a shopping LIST\r\n",
        "# Take the list above and laminate it. Now, you can't make any changes to this list. This is called a TUPLE.\r\n",
        "# When you need to look up the meaning of a word, what do you do? You pick up a DICTIONARY\r\n",
        "# Let's look at some examples!\r\n",
        "\r\n",
        "f = ['abcd', 786 , 2.23, 'john', 70.2 ] # Defining a variable called f, a LIST. You can have a mix of data types in this list.\r\n",
        "print(f)\r\n",
        "\r\n",
        "g = ('abcd', 786 , 2.23, 'john', 70.2  ) # Defining a variable called g, a TUPLE. This is a READ-ONLY list. You can't add more items or change an item, for example.\r\n",
        "print(g)\r\n",
        "\r\n",
        "h = {'name': 'john','code':6734, 'dept': 'sales'} # Defining a variable called h, a DICTIONARY. \r\n",
        "# Much like an English dictionary has a word followed by its meaning, the Python dictionary has a KEY followed by a VALUE.\r\n",
        "# For example, the above dictionary has one item with a KEY called name and its VALUE is john\r\n",
        "print(h)\r\n",
        "\r\n",
        "# P.S. Notice the different brackets for all these variables."
      ],
      "execution_count": 11,
      "outputs": [
        {
          "output_type": "stream",
          "text": [
            "['abcd', 786, 2.23, 'john', 70.2]\n",
            "('abcd', 786, 2.23, 'john', 70.2)\n",
            "{'name': 'john', 'code': 6734, 'dept': 'sales'}\n"
          ],
          "name": "stdout"
        }
      ]
    },
    {
      "cell_type": "code",
      "metadata": {
        "id": "VkXC_-wanbJ_"
      },
      "source": [
        "# Try some stuff out yourself now, eh?\r\n",
        "# 1. Define a variable called i that stores the value 45.00\r\n",
        "# 2. Define a variable called j that stores the word \"friends\"\r\n",
        "# 3. Define a variable called k that has a read-only list of primary colors\r\n",
        "# 4. Define a variable called l that has a list of the first five numbers\r\n",
        "# 5. Define a variable called m that stores the name of your courses and their grades\r\n",
        "# Print all this :)"
      ],
      "execution_count": null,
      "outputs": []
    },
    {
      "cell_type": "markdown",
      "metadata": {
        "id": "emrdGoH0t-v4"
      },
      "source": [
        "## Operators"
      ]
    },
    {
      "cell_type": "code",
      "metadata": {
        "colab": {
          "base_uri": "https://localhost:8080/"
        },
        "id": "rOyS6Nlqr1tC",
        "outputId": "187bb9f3-a9cb-4b62-ca04-7bcf99a0fa6a"
      },
      "source": [
        "# Computers are basically fancy calculators. So, how about we do some math?\r\n",
        "# These type of operators are called arithemetic operators.\r\n",
        "a = 10\r\n",
        "b = 20\r\n",
        "\r\n",
        "# Addition\r\n",
        "c = a + b\r\n",
        "print(c)\r\n",
        "\r\n",
        "# Subtraction\r\n",
        "d = a - b\r\n",
        "print(d)\r\n",
        "\r\n",
        "# Multiplication\r\n",
        "e = a*b\r\n",
        "print(e)\r\n",
        "\r\n",
        "# Division\r\n",
        "f = b/a\r\n",
        "print(f)\r\n",
        "\r\n",
        "# Modulus (This is the remainder after dividing two numbers)\r\n",
        "g = b%a\r\n",
        "print(g)\r\n",
        "\r\n",
        "# Exponent (This is b^a)\r\n",
        "h = b**a \r\n",
        "print(h)"
      ],
      "execution_count": 16,
      "outputs": [
        {
          "output_type": "stream",
          "text": [
            "30\n",
            "-10\n",
            "200\n",
            "2.0\n",
            "0\n",
            "10240000000000\n"
          ],
          "name": "stdout"
        }
      ]
    },
    {
      "cell_type": "code",
      "metadata": {
        "id": "Nj2Zg6Oo8g-b"
      },
      "source": [
        "# Your turn, what's the value of (10+20)^2 - (40*20/2)? Name this variable as hola."
      ],
      "execution_count": null,
      "outputs": []
    },
    {
      "cell_type": "code",
      "metadata": {
        "colab": {
          "base_uri": "https://localhost:8080/"
        },
        "id": "qWTRlRNYv-br",
        "outputId": "589e4f0f-5aea-4991-955c-5cbdfa38aee4"
      },
      "source": [
        "# You know that 10 < 20, 39 > 19 and 20 = 20. Good news, so does your computer!\r\n",
        "# These type of operators are called comparison operators.\r\n",
        "a = 10\r\n",
        "b = 20\r\n",
        "\r\n",
        "# Checking if a > b\r\n",
        "print(a > b)\r\n",
        "\r\n",
        "# Checking if a < b\r\n",
        "print(a < b)\r\n",
        "\r\n",
        "# Checking if a = b\r\n",
        "print(a == b)\r\n",
        "# Notice that we used TWO = sign, instead of one. Why? Because we use one = for variable assignment, remember?\r\n",
        "\r\n",
        "# Checking if a is not equal to b\r\n",
        "print(a != b)"
      ],
      "execution_count": 18,
      "outputs": [
        {
          "output_type": "stream",
          "text": [
            "False\n",
            "True\n",
            "False\n",
            "True\n"
          ],
          "name": "stdout"
        }
      ]
    },
    {
      "cell_type": "code",
      "metadata": {
        "id": "uzsXMA6k2ucT"
      },
      "source": [
        "# Go on, run a check to see if hola (the variable you defined above when trying out arithmetic operators) is greater than 300"
      ],
      "execution_count": null,
      "outputs": []
    },
    {
      "cell_type": "code",
      "metadata": {
        "colab": {
          "base_uri": "https://localhost:8080/"
        },
        "id": "YNdebyYB94Qv",
        "outputId": "5496f89e-df5c-4cc9-e0eb-c3119a048cc6"
      },
      "source": [
        "# Let's say you have a variable named k, that stores a value of 15\r\n",
        "k = 15\r\n",
        "# Now, let's say you want to change this value of k to 14. One way of going about it would be:\r\n",
        "k = 14\r\n",
        "# Great, the new value of k is 14. Now, they ask you to change the value to 13.\r\n",
        "# You could do k = 13\r\n",
        "# But you know what else you can do? \r\n",
        "k = k - 1\r\n",
        "# So, what's happening here? You're reducing the CURRENT value of k (14) by 1, and storing it as the NEW value of k (14-1 = 13)\r\n",
        "print(k)"
      ],
      "execution_count": 19,
      "outputs": [
        {
          "output_type": "stream",
          "text": [
            "13\n"
          ],
          "name": "stdout"
        }
      ]
    },
    {
      "cell_type": "code",
      "metadata": {
        "colab": {
          "base_uri": "https://localhost:8080/"
        },
        "id": "mVE_ngyY_EID",
        "outputId": "627c832a-2849-437d-f1d3-8899d0faec2a"
      },
      "source": [
        "# Pretty cool, right? But eh, writing k = k - 1 is long. Here's a neater way of writing it:\r\n",
        "k-=1\r\n",
        "print(k)\r\n",
        "# P.S. This way of writing it is called assignment operator"
      ],
      "execution_count": 21,
      "outputs": [
        {
          "output_type": "stream",
          "text": [
            "12\n"
          ],
          "name": "stdout"
        }
      ]
    },
    {
      "cell_type": "code",
      "metadata": {
        "id": "zTxFYR9BAYNB"
      },
      "source": [
        "# Divide k by 3 using an assignment operator"
      ],
      "execution_count": null,
      "outputs": []
    },
    {
      "cell_type": "markdown",
      "metadata": {
        "id": "J5QOGCwgB4pt"
      },
      "source": [
        "# CONGRATULATIONS!\r\n",
        "\r\n",
        "You're now well acquainted with some of the fundamentals of Python. The next part of this notebook series will take you one step ahead on your journey: You'll learn how Python makes decisions!\r\n",
        "\r\n",
        "Here's some help, depending on how you feel after going through this notebook:\r\n",
        "\r\n",
        "*   If you still feel VERY lost: [Code Academy](https://www.codecademy.com/catalog)\r\n",
        "*   If you want a good reference site: [Official Python Reference](https://docs.python.org/3/reference/index.html)\r\n",
        "*   If you want to learn python robustly: [Learn Python the Hard Way](https://learnpythonthehardway.org/book/)\r\n",
        "\r\n",
        "Feel free to contact me for feedback, suggestions, queries etc. at: akharbanda1@hotmail.com\r\n",
        "\r\n",
        "See you in the next one!\r\n",
        "\r\n",
        "P.S. Feel free to subscribe to [my blog](https://pythonpandas.substack.com/) to stay updated :)"
      ]
    }
  ]
}
