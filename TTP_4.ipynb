{
  "nbformat": 4,
  "nbformat_minor": 0,
  "metadata": {
    "colab": {
      "name": "Taming-The-Python-4.ipynb",
      "provenance": [],
      "authorship_tag": "ABX9TyM5AlkZ8e7FcxuglE4+ib8e",
      "include_colab_link": true
    },
    "kernelspec": {
      "name": "python3",
      "display_name": "Python 3"
    }
  },
  "cells": [
    {
      "cell_type": "markdown",
      "metadata": {
        "id": "view-in-github",
        "colab_type": "text"
      },
      "source": [
        "<a href=\"https://colab.research.google.com/github/Akshat2430/Taming-The-Python/blob/main/TTP_4.ipynb\" target=\"_parent\"><img src=\"https://colab.research.google.com/assets/colab-badge.svg\" alt=\"Open In Colab\"/></a>"
      ]
    },
    {
      "cell_type": "markdown",
      "metadata": {
        "id": "mi_YF1Um5jC3"
      },
      "source": [
        "# TAMING THE PYTHON - 4\r\n",
        "\r\n",
        "Welcome! This notebook aims to take you through data types in Python, and you should be able to follow along if you went through [my first TTP post](https://github.com/Akshat2430/Taming-The-Python/blob/main/TTP_1.ipynb), introducing the very basics of Python in the simplest manner possible.\r\n",
        "\r\n",
        "You won't be an expert at the end, but you will have a decent starting point to BECOME an expert.\r\n",
        "\r\n",
        "Sounds good? Let's go!\r\n",
        "\r\n",
        "Oh actually, before that: Let me tell dive a bit into how to get the most out of this notebook (That's what you call this whole file, a Colab notebook :p)\r\n",
        "\r\n",
        "Now, this notebook is made of cells. In order to run a cell, you just need to click on it and press Shift + Enter.\r\n",
        "\r\n",
        "\"Running\" the cell means that the code present inside the cell will be executed, and you'll get an output.\r\n",
        "\r\n",
        "Some cells will contain text (like this one!), while some will contain code.\r\n",
        "\r\n",
        "You will notice that cells containing codes will have a # followed by some text at some places. This is called a comment. Basically, whatever you write in there is just for humans: The computer will understand that this isn't code, and it won't affect your output!\r\n",
        "\r\n",
        "Alright, I think we can say this now: Let's go!\r\n",
        "\r\n",
        "P.S. This notebook is a companion to [my blog](https://pythonpandas.substack.com/)\r\n",
        "\r\n",
        "P.P.S. Feel free to connect with me on [LinkedIn!](https://www.linkedin.com/in/akshat-kharbanda-b91986148/)"
      ]
    },
    {
      "cell_type": "markdown",
      "metadata": {
        "id": "8DUfbPbt6AGB"
      },
      "source": [
        "## NUMBERS"
      ]
    },
    {
      "cell_type": "code",
      "metadata": {
        "id": "rTnShEta54wx"
      },
      "source": [
        "# You’ll be mainly working with two numerical types −\r\n",
        "# int− Integers (or ints) are positive/negative numbers with no decimal point.\r\n",
        "# float− Floats represent real numbers and are written with a decimal point dividing the integer and fractional parts.\r\n",
        "# Now, the great thing about Python is that you often don’t need to bother with the data type. However, there may be times when you need to change the variable to a different data type.\r\n",
        "# Type int(x) to convert x to an integer.\r\n",
        "# Type float(x) to convert x to a float.\r\n",
        "\r\n",
        "x = 10 # This is int\r\n",
        "y = 10.0 # This is float\r\n",
        "\r\n",
        "z = int(y) # You converted the float type to int\r\n",
        "print(z)\r\n",
        "\r\n",
        "z = float(x) # You converted the int type to float\r\n",
        "print(z)"
      ],
      "execution_count": null,
      "outputs": []
    },
    {
      "cell_type": "code",
      "metadata": {
        "id": "BNeJzzBN6RG7"
      },
      "source": [
        "a = -10\r\n",
        "# Get the absolute value of a: the positive distance between a and 0\r\n",
        "b = abs(a)\r\n",
        "print(b) \r\n",
        "\r\n",
        "c = 10.9\r\n",
        "# Get the floor of c: the largest integer not greater than c\r\n",
        "d = floor(c)\r\n",
        "print(d)\r\n",
        "\r\n",
        "e = 9\r\n",
        "# Get the square root of e\r\n",
        "f = sqrt(e)\r\n",
        "print(f)\r\n",
        "\r\n",
        "g = 0\r\n",
        "# Get the exponential of g: e^g\r\n",
        "h = exp(g)\r\n",
        "print(h)\r\n",
        "\r\n",
        "# Get the maximum value out of a and b\r\n",
        "i = max(a,b)\r\n",
        "print(i)\r\n",
        "\r\n",
        "# Get the minimum value out of a and b\r\n",
        "j = min(a,b) \r\n",
        "print(j)\r\n",
        "\r\n",
        "k = pi\r\n",
        "# Get the sin of k\r\n",
        "l = sin(k)\r\n",
        "print(l)\r\n",
        "\r\n",
        "# Get the arcsin of l\r\n",
        "print(arcsin(l))"
      ],
      "execution_count": null,
      "outputs": []
    },
    {
      "cell_type": "markdown",
      "metadata": {
        "id": "w8q60CoA6YAR"
      },
      "source": [
        "## STRINGS"
      ]
    },
    {
      "cell_type": "code",
      "metadata": {
        "id": "JKaIA_qg6Zya"
      },
      "source": [
        "# Strings can be created simply by enclosing characters in quotes (single or double, doesn’t matter). For example :\r\n",
        "a = 'Hello' \r\n",
        "b = \"World\"\r\n",
        "\r\n",
        "# Much like numbers, you can do cool stuff with strings too!\r\n",
        "\r\n",
        "# Concatenation is a fancy way of saying \"put these words together\"\r\n",
        "# For example, concatenating 'B' and '99' gives 'B99'\r\n",
        "# In Python, + means concatenation for strings\r\n",
        "c = a + b\r\n",
        "print(c)\r\n",
        "\r\n",
        "# Repetition means repeating the string again and again\r\n",
        "# For example, repeating '6' three times gives '666'\r\n",
        "# In Python, * means repetition for strings\r\n",
        "d = a*3\r\n",
        "print(d)\r\n",
        "\r\n",
        "# Slicing means getting a susbtring for a string. \r\n",
        "# Let me walk through # this with the example of a string stored in a variable e.\r\n",
        "\r\n",
        "e = 'Python'\r\n",
        "# What's the first character of this string? P\r\n",
        "# In Python (and computers in general), counting starts from 0\r\n",
        "# So, here's how you do this in Python!\r\n",
        "print(e[0])\r\n",
        "\r\n",
        "# What's the second character of this string? y\r\n",
        "print(e[1])\r\n",
        "\r\n",
        "# What's the last character of this string? n\r\n",
        "print(e[5])\r\n",
        "# However, there is another way of getting this character, which \r\n",
        "# comes in handy when you don't know how long the string is\r\n",
        "print(e[-1])\r\n",
        "\r\n",
        "# Now, how about we get MORE than just one character?\r\n",
        "# What're the first two characters of this string? Py\r\n",
        "print(e[1:3]) \r\n",
        "\r\n",
        "# What're the first three characters of this string? Pyt\r\n",
        "print(e[1:4])"
      ],
      "execution_count": null,
      "outputs": []
    },
    {
      "cell_type": "markdown",
      "metadata": {
        "id": "-mC8lpDV64Nw"
      },
      "source": [
        "## LISTS"
      ]
    },
    {
      "cell_type": "code",
      "metadata": {
        "id": "mP0es9-S65q8"
      },
      "source": [
        "# Lists are a list of comma-separated values (items) between square brackets. \r\n",
        "\r\n",
        "a = ['a', 'b', 1, 2]\r\n",
        "b = [1, 2, 3, 4];\r\n",
        "c = [\"a\", \"b\", \"c\", \"d\"] \r\n",
        "\r\n",
        "# Here’s what you can do with lists:\r\n",
        "\r\n",
        "# Get the second value of list\r\n",
        "print(a[1])\r\n",
        "\r\n",
        "# Update the second value of the list\r\n",
        "a[1] = 'c'\r\n",
        "print(a)\r\n",
        "\r\n",
        "# Delete the second value of the list\r\n",
        "del a[1]\r\n",
        "\r\n",
        "# Get the length of the list\r\n",
        "print(len(a))\r\n",
        "\r\n",
        "# Concatenate lists\r\n",
        "print(b + c)\r\n",
        "\r\n",
        "# Get the maximum value in list\r\n",
        "print(max(a))\r\n",
        "\r\n",
        "# Add a new item to the end of the list\r\n",
        "a.append(3)"
      ],
      "execution_count": null,
      "outputs": []
    },
    {
      "cell_type": "markdown",
      "metadata": {
        "id": "-ExCE6GJ7KG8"
      },
      "source": [
        "## DICTIONARIES"
      ]
    },
    {
      "cell_type": "code",
      "metadata": {
        "id": "oTnfsjsU692e"
      },
      "source": [
        "# In Python, you have a key, followed by its value  \r\n",
        "# Each key is separated from its value by a colon (:), the items are separated by commas, and the whole thing is enclosed in curly braces. \r\n",
        "# Keys are unique within a dictionary while values may not be (Much like how an English word can have synonyms). \r\n",
        "\r\n",
        "# Defining a dictionary\r\n",
        "dict = {'Name': 'Akshat', 'Age': 20, 'City': 'Delhi'}\r\n",
        "\r\n",
        "# Printing the name\r\n",
        "print(dict['Name'])\r\n",
        "\r\n",
        "# Updating the name\r\n",
        "dict['Name'] = 'Jake'\r\n",
        "print(dict['Name'])\r\n",
        "\r\n",
        "# Adding a new item in dictionary\r\n",
        "dict['Country'] = 'India'\r\n",
        "\r\n",
        "# Deleting the name\r\n",
        "del dict['Name']"
      ],
      "execution_count": null,
      "outputs": []
    },
    {
      "cell_type": "markdown",
      "metadata": {
        "id": "RfGsJaIJ7Pgg"
      },
      "source": [
        "# CONGRATULATIONS!\r\n",
        "\r\n",
        "You're now well acquainted with data types in Python. The next (and final!) part of this notebook series will take you one step ahead on your journey: You'll be working with funky functions!\r\n",
        "\r\n",
        "Here's some help for the stuff we covered today:\r\n",
        "\r\n",
        "\r\n",
        "*   [If you didn't get anything](https://www.geeksforgeeks.org/python-data-types/)\r\n",
        "*   [See some more examples](https://www.w3schools.com/python/python_datatypes.asp)\r\n",
        "*   [Look at more data type functions](https://www.tutorialspoint.com/python/python_numbers.htm)\r\n",
        "\r\n",
        "Feel free to contact me for feedback, suggestions, queries etc. at: akharbanda1@hotmail.com\r\n",
        "\r\n",
        "See you in the next one!\r\n",
        "\r\n",
        "P.S. Feel free to subscribe to [my blog](https://pythonpandas.substack.com/) to stay updated :)"
      ]
    }
  ]
}