{
  "nbformat": 4,
  "nbformat_minor": 0,
  "metadata": {
    "colab": {
      "name": "Taming-The-Python-5.ipynb",
      "provenance": [],
      "authorship_tag": "ABX9TyN4VVvKRaOBU9NhX9WmWFGi",
      "include_colab_link": true
    },
    "kernelspec": {
      "name": "python3",
      "display_name": "Python 3"
    }
  },
  "cells": [
    {
      "cell_type": "markdown",
      "metadata": {
        "id": "view-in-github",
        "colab_type": "text"
      },
      "source": [
        "<a href=\"https://colab.research.google.com/github/Akshat2430/Taming-The-Python/blob/main/TTP_5.ipynb\" target=\"_parent\"><img src=\"https://colab.research.google.com/assets/colab-badge.svg\" alt=\"Open In Colab\"/></a>"
      ]
    },
    {
      "cell_type": "markdown",
      "metadata": {
        "id": "iUZKNo6LgYkd"
      },
      "source": [
        "# TAMING THE PYTHON - 5\r\n",
        "\r\n",
        "Welcome! This notebook aims to take you through functions in Python, and you should be able to follow along if you went through [my previous post](https://github.com/Akshat2430/Taming-The-Python/blob/main/TTP_4.ipynb), introducing the very basics of Python in the simplest manner possible.\r\n",
        "\r\n",
        "You won't be an expert at the end, but you will have a decent starting point to BECOME an expert.\r\n",
        "\r\n",
        "Sounds good? Let's go!\r\n",
        "\r\n",
        "Oh actually, before that: Let me tell dive a bit into how to get the most out of this notebook (That's what you call this whole file, a Colab notebook :p)\r\n",
        "\r\n",
        "Now, this notebook is made of cells. In order to run a cell, you just need to click on it and press Shift + Enter.\r\n",
        "\r\n",
        "\"Running\" the cell means that the code present inside the cell will be executed, and you'll get an output.\r\n",
        "\r\n",
        "Some cells will contain text (like this one!), while some will contain code.\r\n",
        "\r\n",
        "You will notice that cells containing codes will have a # followed by some text at some places. This is called a comment. Basically, whatever you write in there is just for humans: The computer will understand that this isn't code, and it won't affect your output!\r\n",
        "\r\n",
        "Alright, I think we can say this now: Let's go!\r\n",
        "\r\n",
        "P.S. This notebook is a companion to [my blog](https://pythonpandas.substack.com/)\r\n",
        "\r\n",
        "P.P.S. Feel free to connect with me on [LinkedIn!](https://www.linkedin.com/in/akshat-kharbanda-b91986148/)"
      ]
    },
    {
      "cell_type": "markdown",
      "metadata": {
        "id": "e2i76ApEg2D1"
      },
      "source": [
        "### Defining a function"
      ]
    },
    {
      "cell_type": "code",
      "metadata": {
        "id": "nNSq15ocgUb7"
      },
      "source": [
        "# Let’s write a function that takes two numbers and adds them\r\n",
        "def addinator(a,b):\r\n",
        "    \"\"\"Takes in two numbers, returns their sum.\"\"\"\r\n",
        "    c = a + b\r\n",
        "    return c"
      ],
      "execution_count": 24,
      "outputs": []
    },
    {
      "cell_type": "code",
      "metadata": {
        "id": "9D-utVbQhEmn"
      },
      "source": [
        "# Let’s write a function that takes two numbers and subtracts them\r\n",
        "def subtractinator(a,b):\r\n",
        "    \"\"\"Takes in two numbers, returns their sum.\"\"\"\r\n",
        "    c = a - b\r\n",
        "    return c"
      ],
      "execution_count": 25,
      "outputs": []
    },
    {
      "cell_type": "code",
      "metadata": {
        "id": "134ZAnxDhN2w"
      },
      "source": [
        "# Let’s write a function that takes two numbers and multiplies them\r\n",
        "def multinator(a,b):\r\n",
        "    \"\"\"Takes in two numbers, returns their sum.\"\"\"\r\n",
        "    c = a * b\r\n",
        "    return c"
      ],
      "execution_count": 26,
      "outputs": []
    },
    {
      "cell_type": "code",
      "metadata": {
        "id": "-4dtTVi8hVHR"
      },
      "source": [
        "# Let’s write a function that takes two numbers and divides them\r\n",
        "def divinator(a,b):\r\n",
        "    \"\"\"Takes in two numbers, returns their sum.\"\"\"\r\n",
        "    c = a / b\r\n",
        "    return c"
      ],
      "execution_count": 27,
      "outputs": []
    },
    {
      "cell_type": "code",
      "metadata": {
        "id": "AYKufIiphcon"
      },
      "source": [
        "# Your turn! Define a function that returns the remainder on dividing a and b"
      ],
      "execution_count": 28,
      "outputs": []
    },
    {
      "cell_type": "markdown",
      "metadata": {
        "id": "kO6o0fAIhoe6"
      },
      "source": [
        "## Calling a function"
      ]
    },
    {
      "cell_type": "code",
      "metadata": {
        "colab": {
          "base_uri": "https://localhost:8080/"
        },
        "id": "srtG4F2Hhnm_",
        "outputId": "a7e8a6e1-daa6-4976-e2d3-5146b1bedf58"
      },
      "source": [
        "# Calling this function sets a = 10 and b = 20\r\n",
        "# Then, they're added to give 30 and returned by the function\r\n",
        "# We store this value in a variable called d\r\n",
        "d = addinator(10,20)\r\n",
        "print(d)"
      ],
      "execution_count": 29,
      "outputs": [
        {
          "output_type": "stream",
          "text": [
            "30\n"
          ],
          "name": "stdout"
        }
      ]
    },
    {
      "cell_type": "code",
      "metadata": {
        "colab": {
          "base_uri": "https://localhost:8080/"
        },
        "id": "ecJwiCK5hthl",
        "outputId": "7aa419d4-39d5-4256-a30c-0f9421565e72"
      },
      "source": [
        "# Calling this function sets a = 10 and b = 20\r\n",
        "# Then, they're subtracted to give -10 and returned by the function\r\n",
        "# We store this value in a variable called d\r\n",
        "d = subtractinator(10,20)\r\n",
        "print(d)"
      ],
      "execution_count": 30,
      "outputs": [
        {
          "output_type": "stream",
          "text": [
            "-10\n"
          ],
          "name": "stdout"
        }
      ]
    },
    {
      "cell_type": "code",
      "metadata": {
        "colab": {
          "base_uri": "https://localhost:8080/"
        },
        "id": "3Qzy5pImhv9D",
        "outputId": "18045b32-7200-4e74-a7f0-629d26ac5515"
      },
      "source": [
        "# Calling this function sets a = 10 and b = 20\r\n",
        "# Then, they're multiplied to give 200 and returned by the function\r\n",
        "# We store this value in a variable called d\r\n",
        "d = multinator(10,20)\r\n",
        "print(d)"
      ],
      "execution_count": 31,
      "outputs": [
        {
          "output_type": "stream",
          "text": [
            "200\n"
          ],
          "name": "stdout"
        }
      ]
    },
    {
      "cell_type": "code",
      "metadata": {
        "colab": {
          "base_uri": "https://localhost:8080/"
        },
        "id": "5mdhzmMyhwq5",
        "outputId": "29bcbc0a-ee9d-4a05-be12-cf28e06e214e"
      },
      "source": [
        "# Calling this function sets a = 10 and b = 20\r\n",
        "# Then, they're divided to give 0.5 and returned by the function\r\n",
        "# We store this value in a variable called d\r\n",
        "d = divinator(10,20)\r\n",
        "print(d)"
      ],
      "execution_count": 32,
      "outputs": [
        {
          "output_type": "stream",
          "text": [
            "0.5\n"
          ],
          "name": "stdout"
        }
      ]
    },
    {
      "cell_type": "markdown",
      "metadata": {
        "id": "V7Eg8iMIiG0C"
      },
      "source": [
        "## Types of inputs"
      ]
    },
    {
      "cell_type": "code",
      "metadata": {
        "colab": {
          "base_uri": "https://localhost:8080/",
          "height": 229
        },
        "id": "DS6tgz4riAry",
        "outputId": "f198bc93-11e1-403c-ae8c-e8c4482e2273"
      },
      "source": [
        "# Try calling addinator without any input.\r\n",
        "d = addinator()\r\n",
        "# You’ll get an error\r\n",
        "# Why? Because the function in supposed to add two numbers, and you haven’t told it which numbers to add!\r\n",
        "# So, these two numbers are required arguments."
      ],
      "execution_count": 33,
      "outputs": [
        {
          "output_type": "error",
          "ename": "TypeError",
          "evalue": "ignored",
          "traceback": [
            "\u001b[0;31m---------------------------------------------------------------------------\u001b[0m",
            "\u001b[0;31mTypeError\u001b[0m                                 Traceback (most recent call last)",
            "\u001b[0;32m<ipython-input-33-cf1be3db5d0b>\u001b[0m in \u001b[0;36m<module>\u001b[0;34m()\u001b[0m\n\u001b[1;32m      1\u001b[0m \u001b[0;31m# Try calling addinator without any input.\u001b[0m\u001b[0;34m\u001b[0m\u001b[0;34m\u001b[0m\u001b[0;34m\u001b[0m\u001b[0m\n\u001b[0;32m----> 2\u001b[0;31m \u001b[0md\u001b[0m \u001b[0;34m=\u001b[0m \u001b[0maddinator\u001b[0m\u001b[0;34m(\u001b[0m\u001b[0;34m)\u001b[0m\u001b[0;34m\u001b[0m\u001b[0;34m\u001b[0m\u001b[0m\n\u001b[0m\u001b[1;32m      3\u001b[0m \u001b[0;31m# You’ll get an error\u001b[0m\u001b[0;34m\u001b[0m\u001b[0;34m\u001b[0m\u001b[0;34m\u001b[0m\u001b[0m\n\u001b[1;32m      4\u001b[0m \u001b[0;31m# Why? Because the function in supposed to add two numbers, and you haven’t told it which numbers to add!\u001b[0m\u001b[0;34m\u001b[0m\u001b[0;34m\u001b[0m\u001b[0;34m\u001b[0m\u001b[0m\n\u001b[1;32m      5\u001b[0m \u001b[0;31m# So, these two numbers are required arguments.\u001b[0m\u001b[0;34m\u001b[0m\u001b[0;34m\u001b[0m\u001b[0;34m\u001b[0m\u001b[0m\n",
            "\u001b[0;31mTypeError\u001b[0m: addinator() missing 2 required positional arguments: 'a' and 'b'"
          ]
        }
      ]
    },
    {
      "cell_type": "code",
      "metadata": {
        "colab": {
          "base_uri": "https://localhost:8080/",
          "height": 178
        },
        "id": "KH1HdRyFifMu",
        "outputId": "3e4f36a7-d832-4c2d-fcc1-a4acdc9ab1e8"
      },
      "source": [
        "# Similar error when you give only ONE input\r\n",
        "d = addinator(10)"
      ],
      "execution_count": 34,
      "outputs": [
        {
          "output_type": "error",
          "ename": "TypeError",
          "evalue": "ignored",
          "traceback": [
            "\u001b[0;31m---------------------------------------------------------------------------\u001b[0m",
            "\u001b[0;31mTypeError\u001b[0m                                 Traceback (most recent call last)",
            "\u001b[0;32m<ipython-input-34-205a906ebce1>\u001b[0m in \u001b[0;36m<module>\u001b[0;34m()\u001b[0m\n\u001b[1;32m      1\u001b[0m \u001b[0;31m# Similar error when you give only ONE input\u001b[0m\u001b[0;34m\u001b[0m\u001b[0;34m\u001b[0m\u001b[0;34m\u001b[0m\u001b[0m\n\u001b[0;32m----> 2\u001b[0;31m \u001b[0md\u001b[0m \u001b[0;34m=\u001b[0m \u001b[0maddinator\u001b[0m\u001b[0;34m(\u001b[0m\u001b[0;36m10\u001b[0m\u001b[0;34m)\u001b[0m\u001b[0;34m\u001b[0m\u001b[0;34m\u001b[0m\u001b[0m\n\u001b[0m",
            "\u001b[0;31mTypeError\u001b[0m: addinator() missing 1 required positional argument: 'b'"
          ]
        }
      ]
    },
    {
      "cell_type": "code",
      "metadata": {
        "id": "_z8gzuWvi3mi"
      },
      "source": [
        "def biodata( name, age ):         \r\n",
        "    \"This function prints the passed name and age\"          \r\n",
        "    print (\"My name is\", name)          \r\n",
        "    print (\"My age is\", age)          \r\n",
        "    return\r\n",
        "# Before I talk about keyword arguments, notice how the return statement doesn’t have anything in front of it. \r\n",
        "# That’s because we don’t need to return anything! \r\n",
        "# We just need to print the name and age every time the function is called."
      ],
      "execution_count": 35,
      "outputs": []
    },
    {
      "cell_type": "code",
      "metadata": {
        "colab": {
          "base_uri": "https://localhost:8080/"
        },
        "id": "FGAe6HgIjGJ4",
        "outputId": "e814e66f-f5c2-4e0c-9650-e3d28063cfbe"
      },
      "source": [
        "# Now, let’s call the function.\r\n",
        "biodata('Akshat', 20)"
      ],
      "execution_count": 36,
      "outputs": [
        {
          "output_type": "stream",
          "text": [
            "My name is Akshat\n",
            "My age is 20\n"
          ],
          "name": "stdout"
        }
      ]
    },
    {
      "cell_type": "code",
      "metadata": {
        "colab": {
          "base_uri": "https://localhost:8080/"
        },
        "id": "Z3s5UHQ7jTFj",
        "outputId": "87ac4112-99bc-41cd-f56d-ed47fa3f58cc"
      },
      "source": [
        "# Now, what if you change the order when calling the function?\r\n",
        "biodata( 20, 'Akshat')"
      ],
      "execution_count": 37,
      "outputs": [
        {
          "output_type": "stream",
          "text": [
            "My name is 20\n",
            "My age is Akshat\n"
          ],
          "name": "stdout"
        }
      ]
    },
    {
      "cell_type": "code",
      "metadata": {
        "colab": {
          "base_uri": "https://localhost:8080/"
        },
        "id": "1hXh8wpPjftL",
        "outputId": "d38c3ae0-b8fe-47b3-f368-3fe2da58ef23"
      },
      "source": [
        "# Trouble in paradise!\r\n",
        "# Why does this happen?\r\n",
        "# Simple. Python doesn't know that age is a number, and name is a string. It can't distinguish and point out this obvious mistake.\r\n",
        "# So, how do you ensure this doesn't happen?\r\n",
        "# One way of doing so would be ensuring that the inputs are passed in the same order as defined in the function. The name comes first, THEN the number.\r\n",
        "# The other way is keyword arguments. Simply, do this:\r\n",
        "biodata (age = 20,  name = 'Akshat')"
      ],
      "execution_count": 38,
      "outputs": [
        {
          "output_type": "stream",
          "text": [
            "My name is Akshat\n",
            "My age is 20\n"
          ],
          "name": "stdout"
        }
      ]
    },
    {
      "cell_type": "code",
      "metadata": {
        "id": "OjIhqsU-j7ME"
      },
      "source": [
        "# Let's go on back to the addinator.\r\n",
        "# We've already seen how not giving any inputs gives us an error.\r\n",
        "# However, is there some way of ensuring that we don't get an error even if the user forgets to enter the inputs?\r\n",
        "# Maybe we can set the value of a and b to be zero, in case the user forgets to input either of these. This is called default arguments, and is shown below.\r\n",
        "def addinator(a = 0,b = 0):\r\n",
        "    \"\"\"Takes in two numbers, returns their sum.\"\"\"\r\n",
        "    c = a + b\r\n",
        "    return c"
      ],
      "execution_count": 39,
      "outputs": []
    },
    {
      "cell_type": "code",
      "metadata": {
        "colab": {
          "base_uri": "https://localhost:8080/"
        },
        "id": "mELRO8AvkKqS",
        "outputId": "1ca01bf3-f3c0-4491-9841-8fb2da09fe0a"
      },
      "source": [
        "# Now, when we call the function with no input arguments:\r\n",
        "d = addinator()\r\n",
        "print(d)"
      ],
      "execution_count": 40,
      "outputs": [
        {
          "output_type": "stream",
          "text": [
            "0\n"
          ],
          "name": "stdout"
        }
      ]
    },
    {
      "cell_type": "markdown",
      "metadata": {
        "id": "JP9goZ4XlzHs"
      },
      "source": [
        "## Global vs local variables"
      ]
    },
    {
      "cell_type": "code",
      "metadata": {
        "colab": {
          "base_uri": "https://localhost:8080/"
        },
        "id": "wiEvBKxnl1H3",
        "outputId": "3ff0c37b-bb96-46a0-8b6a-717b4404068a"
      },
      "source": [
        "# Variables that are defined inside a function body have a local scope, and those defined outside have a global scope.\r\n",
        "# Eh?\r\n",
        "# This means that local variables can be accessed only inside the function in which they are declared\r\n",
        "# Whereas global variables can be accessed throughout the program body by all functions.\r\n",
        "# Here’s a neat example:\r\n",
        "c = 0; # This is global variable. \r\n",
        "def addinator(a,b):    \r\n",
        "# Add both the parameters and return them.    \r\n",
        "  c = a + b # Here total is local variable.    \r\n",
        "  print (\"Inside the function local c : \", c)    \r\n",
        "  return c\r\n",
        "# Now, call the function\r\n",
        "addinator(10,20)  \r\n",
        "print (\"Outside the function global c : \", c) "
      ],
      "execution_count": 42,
      "outputs": [
        {
          "output_type": "stream",
          "text": [
            "Inside the function local c :  30\n",
            "Outside the function global c :  0\n"
          ],
          "name": "stdout"
        }
      ]
    },
    {
      "cell_type": "markdown",
      "metadata": {
        "id": "AmFhju2QnOZI"
      },
      "source": [
        "# CONGRATULATIONS!\r\n",
        "\r\n",
        "You're now well acquainted with functions in Python. The next part of this notebook series...isn't coming. That's right, we're done with Python!\r\n",
        "\r\n",
        "Here's some help for the stuff we covered today:\r\n",
        "\r\n",
        "*   [If you didn't get anything](https://www.javatpoint.com/python-functions)\r\n",
        "*   [Learn about some more stuff](https://www.tutorialspoint.com/python/python_functions.htm)\r\n",
        "*   [See some more examples](https://www.w3schools.com/python/python_functions.asp)\r\n",
        "\r\n",
        "Feel free to contact me for feedback, suggestions, queries etc. at: akharbanda1@hotmail.com\r\n",
        "\r\n",
        "See you in the next one!\r\n",
        "\r\n",
        "P.S. Feel free to subscribe to [my blog](https://pythonpandas.substack.com/) to stay updated :)"
      ]
    }
  ]
}